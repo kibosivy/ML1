{
 "cells": [
  {
   "cell_type": "code",
   "execution_count": 1,
   "id": "134c67d7",
   "metadata": {},
   "outputs": [],
   "source": [
    "import pandas as pd\n",
    "import numpy as np\n",
    "import matplotlib.pyplot as plt\n",
    "import seaborn as sns\n",
    "import math\n",
    "import pickle\n",
    "\n",
    "from sklearn.preprocessing import MinMaxScaler\n",
    "from sklearn.model_selection import train_test_split, cross_val_score\n",
    "from sklearn.linear_model import LinearRegression, Ridge, Lasso, ElasticNet\n",
    "from sklearn.metrics import r2_score, mean_absolute_error\n",
    "from sklearn.preprocessing import StandardScaler, PolynomialFeatures, Normalizer\n",
    "from sklearn.pipeline import make_pipeline\n",
    "from sklearn.ensemble import RandomForestRegressor"
   ]
  },
  {
   "cell_type": "code",
   "execution_count": 2,
   "id": "84c99ba8",
   "metadata": {},
   "outputs": [],
   "source": [
    "test = pd.read_csv(r'C:\\Users\\USER\\OneDrive\\Desktop\\machine_learning\\Week2\\test.csv')"
   ]
  },
  {
   "cell_type": "code",
   "execution_count": 3,
   "id": "f9e1d024",
   "metadata": {},
   "outputs": [],
   "source": [
    "test['temp_range'] = test['MaxOfUpperTRange'] - test['MinOfUpperTRange']\n",
    "test['pollinator_efficiency'] = (test['honeybee'] + test['bumbles'] + test['andrena'] + test['osmia']) / (test['clonesize'] + 1)\n",
    "test['rain_deviation'] = test['RainingDays'] - test['AverageRainingDays']"
   ]
  },
  {
   "cell_type": "code",
   "execution_count": 4,
   "id": "c6c68fda",
   "metadata": {},
   "outputs": [
    {
     "data": {
      "text/plain": [
       "Index(['id', 'clonesize', 'honeybee', 'bumbles', 'andrena', 'osmia',\n",
       "       'MaxOfUpperTRange', 'MinOfUpperTRange', 'AverageOfUpperTRange',\n",
       "       'MaxOfLowerTRange', 'MinOfLowerTRange', 'AverageOfLowerTRange',\n",
       "       'RainingDays', 'AverageRainingDays', 'fruitset', 'fruitmass', 'seeds',\n",
       "       'temp_range', 'pollinator_efficiency', 'rain_deviation'],\n",
       "      dtype='object')"
      ]
     },
     "execution_count": 4,
     "metadata": {},
     "output_type": "execute_result"
    }
   ],
   "source": [
    "test.columns"
   ]
  },
  {
   "cell_type": "code",
   "execution_count": 5,
   "id": "37189994",
   "metadata": {},
   "outputs": [
    {
     "data": {
      "text/plain": [
       "(10194, 20)"
      ]
     },
     "execution_count": 5,
     "metadata": {},
     "output_type": "execute_result"
    }
   ],
   "source": [
    "test.shape"
   ]
  },
  {
   "cell_type": "markdown",
   "id": "096ef9f7",
   "metadata": {},
   "source": [
    "# Predictions"
   ]
  },
  {
   "cell_type": "code",
   "execution_count": null,
   "id": "968e528c",
   "metadata": {},
   "outputs": [],
   "source": [
    "loaded_model = pickle.load(open('final/model.sav', 'rb'))\n",
    "y_pred = loaded_model.predict(X)\n",
    "y_pred.shape"
   ]
  },
  {
   "cell_type": "markdown",
   "id": "6cd19d5d",
   "metadata": {},
   "source": [
    "# Export the submission file"
   ]
  },
  {
   "cell_type": "code",
   "execution_count": null,
   "id": "df00041e",
   "metadata": {},
   "outputs": [],
   "source": [
    "sample = pd.read_csv('data/sample_submission.csv')\n",
    "sample.head()"
   ]
  },
  {
   "cell_type": "code",
   "execution_count": null,
   "id": "be269459",
   "metadata": {},
   "outputs": [],
   "source": [
    "final = pd.DataFrame(test['id'],columns=['id'])\n",
    "final['yield'] = y_pred\n",
    "final = final.set_index('id')\n",
    "final.head()"
   ]
  },
  {
   "cell_type": "code",
   "execution_count": null,
   "id": "9be583ab",
   "metadata": {},
   "outputs": [],
   "source": [
    "final.to_csv('final/submission.csv')"
   ]
  }
 ],
 "metadata": {
  "kernelspec": {
   "display_name": "Python (global)",
   "language": "python",
   "name": "global"
  },
  "language_info": {
   "codemirror_mode": {
    "name": "ipython",
    "version": 3
   },
   "file_extension": ".py",
   "mimetype": "text/x-python",
   "name": "python",
   "nbconvert_exporter": "python",
   "pygments_lexer": "ipython3",
   "version": "3.13.2"
  }
 },
 "nbformat": 4,
 "nbformat_minor": 5
}
